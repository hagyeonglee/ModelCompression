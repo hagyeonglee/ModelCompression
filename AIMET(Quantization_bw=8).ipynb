{
  "cells": [
    {
      "cell_type": "markdown",
      "metadata": {
        "id": "f5BNB425XbDL"
      },
      "source": [
        "# AIMET Enviroment Set up (colab)"
      ]
    },
    {
      "cell_type": "code",
      "execution_count": null,
      "metadata": {
        "colab": {
          "base_uri": "https://localhost:8080/",
          "height": 1000
        },
        "id": "mvh21uUPS0Kb",
        "outputId": "819e7214-1202-4ab5-f37c-fcb09f56cd0c"
      },
      "outputs": [],
      "source": [
        "!pip3 uninstall protobuf\n",
        "\n",
        "!pip3 uninstall tensorflow\n",
        "\n",
        "!apt-get update\n",
        "\n",
        "!apt-get install python3.6\n",
        "\n",
        "!apt-get install python3-dev\n",
        "\n",
        "!apt-get install python3-pip\n",
        "\n",
        "!apt-get install liblapacke liblapacke-dev\n",
        "\n",
        "!apt-get install wget\n",
        "\n",
        "!pip3 install numpy==1.16.4\n",
        "\n",
        "!apt-get install libgtest-dev build-essential\n",
        "\n",
        "%cd /content/\n",
        "!wget https://github.com/Kitware/CMake/releases/download/v3.19.3/cmake-3.19.3-Linux-x86_64.sh\n",
        "!sh cmake-3.19.3-Linux-x86_64.sh  --skip-license\n",
        "%rm -rf /usr/local/bin/cmake\n",
        "%rm -rf /usr/local/bin/cpack\n",
        "%rm -rf /usr/local/bin/ctest\n",
        "\n",
        "\n",
        "!ln -s /content/bin/cmake /usr/local/bin/cmake\n",
        "!ln -s /content/bin/ctest /usr/local/bin/ctest\n",
        "!ln -s /content/bin/cpack /usr/local/bin/cpack\n",
        "\n",
        "!pip3 --no-cache-dir install opencv-python==4.1.0.25\n",
        "\n",
        "!pip3 --no-cache-dir install pillow==6.2.1\n",
        "\n",
        "!pip3 install pytorch-ignite==0.1.2\n",
        "\n",
        "!wget -q https://github.com/Itseez/opencv/archive/3.1.0.tar.gz -O /tmp/3.1.0.tar.gz > /dev/null\n",
        "\n",
        "!tar -C /tmp -xvf /tmp/3.1.0.tar.gz > /dev/null\n",
        "\n",
        "%cd /tmp/opencv-3.1.0\n",
        "\n",
        "%mkdir release\n",
        "\n",
        "%cd release\n",
        "\n",
        "!cmake -DCMAKE_POSITION_INDEPENDENT_CODE=ON -DBUILD_SHARED_LIBS=OFF -DCMAKE_BUILD_TYPE=release -DWITH_FFMPEG=OFF -DBUILD_TESTS=OFF -DWITH_CUDA=OFF -DBUILD_PERF_TESTS=OFF -DWITH_IPP=OFF -DENABLE_PRECOMPILED_HEADERS=OFF .. > /dev/null\n",
        "\n",
        "!make -j16 > /dev/null\n",
        "\n",
        "!make -j16 install > /dev/null\n",
        "\n",
        "!wget https://developer.download.nvidia.com/compute/cuda/repos/ubuntu1804/x86_64/cuda-repo-ubuntu1804_10.0.130-1_amd64.deb\n",
        "\n",
        "!apt-key adv --fetch-keys https://developer.download.nvidia.com/compute/cuda/repos/ubuntu1804/x86_64/7fa2af80.pub\n",
        "\n",
        "!dpkg -i cuda-repo-ubuntu1804_10.0.130-1_amd64.deb\n",
        "\n",
        "!apt-get update\n",
        "\n",
        "!wget http://developer.download.nvidia.com/compute/machine-learning/repos/ubuntu1804/x86_64/nvidia-machine-learning-repo-ubuntu1804_1.0.0-1_amd64.deb\n",
        "\n",
        "!apt install ./nvidia-machine-learning-repo-ubuntu1804_1.0.0-1_amd64.deb\n",
        "\n",
        "!apt-get update\n",
        "\n",
        "!apt install cuda-cublas-10-0 cuda-cufft-10-0 cuda-curand-10-0 cuda-cusolver-10-0\n",
        "\n",
        "!apt-get update && apt install cuda-cusparse-10-0 libcudnn7=7.6.2.24-1+cuda10.0 libnccl2=2.4.8-1+cuda10.0  cuda-command-line-tools-10.0\n",
        "\n",
        "!pip3 install scipy==1.2.1\n",
        "\n",
        "!pip3 install protobuf==3.7.1\n",
        "\n",
        "!pip3 install scikit-learn==0.21.0\n",
        "\n",
        "!pip3 install tensorboardX==1.7\n",
        "\n",
        "!pip3 install https://download.pytorch.org/whl/cu100/torch-1.4.0%2Bcu100-cp36-cp36m-linux_x86_64.whl\n",
        "\n",
        "!pip3 install https://download.pytorch.org/whl/cu100/torchvision-0.5.0%2Bcu100-cp36-cp36m-linux_x86_64.whl\n",
        "\n",
        "!pip3 install --upgrade pip\n",
        "\n",
        "!pip3 install tensorflow-gpu==1.15.0\n",
        "\n",
        "!pip3 install future==0.17.1\n",
        "\n",
        "!pip3 install tensorboard==1.15\n",
        "\n",
        "!pip3 install bokeh==1.2.0\n",
        "\n",
        "!pip3 install pandas==0.22.0\n",
        "\n",
        "!pip3 install holoviews==1.12.7\n",
        "\n",
        "!pip3 install --no-deps bokeh==1.2.0 hvplot==0.4.0\n",
        "\n",
        "!pip3 install jsonschema==3.1.1\n",
        "\n",
        "!pip3 install osqp onnx\n",
        "\n",
        "!ln -s /usr/local/cuda-10.0 /usr/local/cuda\n",
        "\n",
        "!apt-get update && apt-get install -y libjpeg8-dev\n",
        "\n",
        "!ln -s /usr/lib/x86_64-linux-gnu/libjpeg.so /usr/lib\n",
        "\n",
        "!apt install zlib1g-dev\n",
        "\n",
        "!pip3 uninstall Pillow && pip3 install Pillow-SIMD==6.2.2.post1\n",
        "\n",
        "!pip3 uninstall pytest\n",
        "\n",
        "!pip3 install pytest\n",
        "\n",
        "!pip3 install setuptools==41.0.1\n",
        "\n",
        "!pip3 install keras==2.2.4\n",
        "\n",
        "%rm -rf /usr/local/bin/python\n",
        "\n",
        "!ln -s /usr/bin/python3 /usr/local/bin/python"
      ]
    },
    {
      "cell_type": "code",
      "execution_count": null,
      "metadata": {
        "colab": {
          "base_uri": "https://localhost:8080/"
        },
        "id": "ar3szaE6TtXw",
        "outputId": "2496854a-56c8-4ece-81ea-aad531c41f78"
      },
      "outputs": [],
      "source": [
        "%cd /content/\n",
        "\n",
        "!mkdir aimet_code\n",
        "\n",
        "%cd aimet_code\n",
        "\n",
        "!git clone https://github.com/quic/aimet.git\n",
        "\n",
        "%cd aimet\n",
        "\n",
        "%mkdir -p ./ThirdParty/googletest\n",
        "\n",
        "%pushd ./ThirdParty/googletest\n",
        "\n",
        "!git clone https://github.com/google/googletest.git -b release-1.8.0 googletest-release-1.8.0\n",
        "\n",
        "%popd\n",
        "\n",
        "%cd /content/aimet_code\n",
        "\n",
        "%mkdir build\n",
        "\n",
        "%cd build\n",
        "\n",
        "!cmake -DCMAKE_EXPORT_COMPILE_COMMANDS=ON ../aimet\n",
        "\n",
        "!make -j 8"
      ]
    },
    {
      "cell_type": "code",
      "execution_count": 3,
      "metadata": {
        "colab": {
          "base_uri": "https://localhost:8080/"
        },
        "id": "HYROXOZ7g0Vm",
        "outputId": "aa1c2910-bae9-450d-ecf9-91ae3fc1da94"
      },
      "outputs": [
        {
          "name": "stdout",
          "output_type": "stream",
          "text": [
            "/sbin/ldconfig.real: /usr/local/lib/python3.7/dist-packages/ideep4py/lib/libmkldnn.so.0 is not a symbolic link\n",
            "\n"
          ]
        }
      ],
      "source": [
        "!sudo ldconfig"
      ]
    },
    {
      "cell_type": "code",
      "execution_count": null,
      "metadata": {
        "colab": {
          "base_uri": "https://localhost:8080/"
        },
        "id": "m3BaUQs0eNVa",
        "outputId": "b487f54b-0b48-4376-e9a1-edefe9f1c800"
      },
      "outputs": [],
      "source": [
        "!sudo make install"
      ]
    },
    {
      "cell_type": "code",
      "execution_count": null,
      "metadata": {
        "colab": {
          "base_uri": "https://localhost:8080/"
        },
        "id": "Q3w0XxieeN7z",
        "outputId": "5b7da7a4-d6d2-448b-a40b-906d0ce871a2"
      },
      "outputs": [],
      "source": [
        "!make packageaimet"
      ]
    },
    {
      "cell_type": "code",
      "execution_count": null,
      "metadata": {
        "colab": {
          "base_uri": "https://localhost:8080/"
        },
        "id": "1x8k7A8ogUz3",
        "outputId": "8e8c591c-f2a2-4e14-bb88-15b0c23c51be"
      },
      "outputs": [],
      "source": [
        "import os\n",
        "os.environ['SRC_URL'] = 'https://raw.githubusercontent.com/quic/aimet/develop/packaging/google_colab/'\n",
        "!curl ${SRC_URL}reqs_deb_common.txt | xargs apt-get --assume-yes install\n",
        "!curl ${SRC_URL}reqs_deb_torch_gpu.txt | xargs apt-get --assume-yes --allow-change-held-packages install"
      ]
    },
    {
      "cell_type": "code",
      "execution_count": null,
      "metadata": {
        "colab": {
          "base_uri": "https://localhost:8080/",
          "height": 836
        },
        "id": "slz4lo_ugV8I",
        "outputId": "ce0de2a1-84c8-4e21-ee24-06585c5d2629"
      },
      "outputs": [],
      "source": [
        "!wget ${SRC_URL}reqs_pip_torch_gpu.txt\n",
        "!pip3 install -r reqs_pip_torch_gpu.txt -f https://download.pytorch.org/whl/torch_stable.html"
      ]
    },
    {
      "cell_type": "code",
      "execution_count": null,
      "metadata": {
        "colab": {
          "base_uri": "https://localhost:8080/",
          "height": 1000
        },
        "id": "v0C8C3B-gcdD",
        "outputId": "3d1a5afa-3a49-4513-de9b-4020feef2ab7"
      },
      "outputs": [],
      "source": [
        "#import os\n",
        "os.environ['release_tag']=\"1.16.2.py37\"\n",
        "!pip3 install https://github.com/quic/aimet/releases/download/${release_tag}/AimetCommon-torch_gpu_${release_tag}-cp37-cp37m-linux_x86_64.whl\n",
        "!pip3 install https://github.com/quic/aimet/releases/download/${release_tag}/AimetTorch-torch_gpu_${release_tag}-cp37-cp37m-linux_x86_64.whl"
      ]
    },
    {
      "cell_type": "code",
      "execution_count": null,
      "metadata": {
        "colab": {
          "base_uri": "https://localhost:8080/",
          "height": 575
        },
        "id": "Vy5qmawme1P9",
        "outputId": "01911c02-7614-42a0-dc0b-5c0497bfe855"
      },
      "outputs": [],
      "source": [
        "!pip install pillow==4.1.1\n",
        "%reload_ext autoreload\n",
        "%autoreload"
      ]
    },
    {
      "cell_type": "markdown",
      "metadata": {
        "id": "Ou9FyL9RhjoW"
      },
      "source": [
        "# After Run time -> restart  "
      ]
    },
    {
      "cell_type": "code",
      "execution_count": 1,
      "metadata": {
        "id": "wHMBBM0ggfW9"
      },
      "outputs": [],
      "source": [
        "import sys\n",
        "sys.path.append('/usr/local/lib/python3.7/dist-packages/aimet_common/x86_64-linux-gnu')\n",
        "sys.path.append('/usr/local/lib/python3.7/dist-packages/aimet_common/x86_64-linux-gnu/aimet_tensor_quantizer-0.0.0-py3.7-linux-x86_64.egg/')\n",
        "\n",
        "import os\n",
        "os.environ['LD_LIBRARY_PATH'] +=':/usr/local/lib/python3.6/dist-packages/aimet_common/x86_64-linux-gnu'\n"
      ]
    },
    {
      "cell_type": "code",
      "execution_count": 2,
      "metadata": {
        "colab": {
          "base_uri": "https://localhost:8080/"
        },
        "id": "UKirQYGMgkL7",
        "outputId": "8a22e6d9-6edb-412c-9d64-2c8474244f66"
      },
      "outputs": [
        {
          "name": "stdout",
          "output_type": "stream",
          "text": [
            "2022-01-27 15:53:54,180 - root - INFO - AIMET\n"
          ]
        }
      ],
      "source": [
        "import torch\n",
        "from torchvision import models\n",
        "from aimet_torch.quantsim import QuantizationSimModel\n",
        "# m = models.resnet18().cuda()\n",
        "# # 이미지 input 3*224*224\n",
        "# sim = QuantizationSimModel(m, dummy_input=torch.rand(1, 3, 224, 224).cuda())\n",
        "# print(sim)\n"
      ]
    },
    {
      "cell_type": "code",
      "execution_count": 3,
      "metadata": {
        "colab": {
          "base_uri": "https://localhost:8080/"
        },
        "id": "x7mRfKU-ie2N",
        "outputId": "6e101f0e-1b4c-4948-defc-3228fddbdf30"
      },
      "outputs": [
        {
          "name": "stdout",
          "output_type": "stream",
          "text": [
            "Drive already mounted at /content/drive; to attempt to forcibly remount, call drive.mount(\"/content/drive\", force_remount=True).\n"
          ]
        }
      ],
      "source": [
        "from google.colab import drive\n",
        "drive.mount('/content/drive')"
      ]
    },
    {
      "cell_type": "code",
      "execution_count": 4,
      "metadata": {
        "colab": {
          "base_uri": "https://localhost:8080/"
        },
        "id": "ms9md6QGipLE",
        "outputId": "01dc5b6e-38b4-44a5-ef46-836420f38c93"
      },
      "outputs": [
        {
          "name": "stdout",
          "output_type": "stream",
          "text": [
            "/content/drive/MyDrive/22WinterIntern/coin\n"
          ]
        }
      ],
      "source": [
        "cd \"/content/drive/MyDrive/22WinterIntern/coin\""
      ]
    },
    {
      "cell_type": "code",
      "execution_count": 5,
      "metadata": {
        "id": "dRjOXupNivqJ"
      },
      "outputs": [],
      "source": [
        "from siren import Siren"
      ]
    },
    {
      "cell_type": "code",
      "execution_count": 6,
      "metadata": {
        "id": "rPlqeW5kizcJ"
      },
      "outputs": [],
      "source": [
        "# siren model\n",
        "func_rep = Siren(\n",
        "    dim_in=2,\n",
        "    dim_hidden=28,\n",
        "    dim_out=3,\n",
        "    num_layers=10,\n",
        "    final_activation=torch.nn.Identity(),\n",
        "    w0_initial=30.0,\n",
        "    w0=30.0\n",
        "    ).to(torch.device('cuda'))"
      ]
    },
    {
      "cell_type": "code",
      "execution_count": 7,
      "metadata": {
        "colab": {
          "base_uri": "https://localhost:8080/"
        },
        "id": "zltuYxLoj7q6",
        "outputId": "97fe9e49-dbbc-4fbd-a06d-00312f2d3bac"
      },
      "outputs": [
        {
          "name": "stdout",
          "output_type": "stream",
          "text": [
            "2022-01-27 15:54:06,207 - Quant - INFO - No config file provided, defaulting to config file at /usr/local/lib/python3.7/dist-packages/aimet_common/quantsim_config/default_config.json\n",
            "Siren(\n",
            "  (net): Sequential(\n",
            "    (0): SirenLayer(\n",
            "      (linear): StaticGridQuantWrapper(\n",
            "        (_module_to_wrap): Linear(in_features=2, out_features=28, bias=True)\n",
            "      )\n",
            "      (activation): StaticGridQuantWrapper(\n",
            "        (_module_to_wrap): Sine()\n",
            "      )\n",
            "    )\n",
            "    (1): SirenLayer(\n",
            "      (linear): StaticGridQuantWrapper(\n",
            "        (_module_to_wrap): Linear(in_features=28, out_features=28, bias=True)\n",
            "      )\n",
            "      (activation): StaticGridQuantWrapper(\n",
            "        (_module_to_wrap): Sine()\n",
            "      )\n",
            "    )\n",
            "    (2): SirenLayer(\n",
            "      (linear): StaticGridQuantWrapper(\n",
            "        (_module_to_wrap): Linear(in_features=28, out_features=28, bias=True)\n",
            "      )\n",
            "      (activation): StaticGridQuantWrapper(\n",
            "        (_module_to_wrap): Sine()\n",
            "      )\n",
            "    )\n",
            "    (3): SirenLayer(\n",
            "      (linear): StaticGridQuantWrapper(\n",
            "        (_module_to_wrap): Linear(in_features=28, out_features=28, bias=True)\n",
            "      )\n",
            "      (activation): StaticGridQuantWrapper(\n",
            "        (_module_to_wrap): Sine()\n",
            "      )\n",
            "    )\n",
            "    (4): SirenLayer(\n",
            "      (linear): StaticGridQuantWrapper(\n",
            "        (_module_to_wrap): Linear(in_features=28, out_features=28, bias=True)\n",
            "      )\n",
            "      (activation): StaticGridQuantWrapper(\n",
            "        (_module_to_wrap): Sine()\n",
            "      )\n",
            "    )\n",
            "    (5): SirenLayer(\n",
            "      (linear): StaticGridQuantWrapper(\n",
            "        (_module_to_wrap): Linear(in_features=28, out_features=28, bias=True)\n",
            "      )\n",
            "      (activation): StaticGridQuantWrapper(\n",
            "        (_module_to_wrap): Sine()\n",
            "      )\n",
            "    )\n",
            "    (6): SirenLayer(\n",
            "      (linear): StaticGridQuantWrapper(\n",
            "        (_module_to_wrap): Linear(in_features=28, out_features=28, bias=True)\n",
            "      )\n",
            "      (activation): StaticGridQuantWrapper(\n",
            "        (_module_to_wrap): Sine()\n",
            "      )\n",
            "    )\n",
            "    (7): SirenLayer(\n",
            "      (linear): StaticGridQuantWrapper(\n",
            "        (_module_to_wrap): Linear(in_features=28, out_features=28, bias=True)\n",
            "      )\n",
            "      (activation): StaticGridQuantWrapper(\n",
            "        (_module_to_wrap): Sine()\n",
            "      )\n",
            "    )\n",
            "    (8): SirenLayer(\n",
            "      (linear): StaticGridQuantWrapper(\n",
            "        (_module_to_wrap): Linear(in_features=28, out_features=28, bias=True)\n",
            "      )\n",
            "      (activation): StaticGridQuantWrapper(\n",
            "        (_module_to_wrap): Sine()\n",
            "      )\n",
            "    )\n",
            "    (9): SirenLayer(\n",
            "      (linear): StaticGridQuantWrapper(\n",
            "        (_module_to_wrap): Linear(in_features=28, out_features=28, bias=True)\n",
            "      )\n",
            "      (activation): StaticGridQuantWrapper(\n",
            "        (_module_to_wrap): Sine()\n",
            "      )\n",
            "    )\n",
            "  )\n",
            "  (last_layer): SirenLayer(\n",
            "    (linear): StaticGridQuantWrapper(\n",
            "      (_module_to_wrap): Linear(in_features=28, out_features=3, bias=True)\n",
            "    )\n",
            "    (activation): Identity()\n",
            "  )\n",
            ")\n"
          ]
        }
      ],
      "source": [
        "sim_siren = QuantizationSimModel(func_rep,dummy_input=torch.rand(10, 2).to('cuda'),default_output_bw=8,\n",
        "                               default_param_bw=8)\n",
        "print(sim_siren.model)"
      ]
    },
    {
      "cell_type": "code",
      "execution_count": 54,
      "metadata": {
        "id": "fp-wwZIFo0th"
      },
      "outputs": [],
      "source": [
        "#sim_siren.compute_encodings(forward_pass_callback=evaluate_model, forward_pass_callback_args=400)"
      ]
    },
    {
      "cell_type": "markdown",
      "metadata": {
        "id": "ivoalyS9Z2Nu"
      },
      "source": [
        "# coin"
      ]
    },
    {
      "cell_type": "code",
      "execution_count": 8,
      "metadata": {
        "id": "1zTCdLHPkweL"
      },
      "outputs": [],
      "source": [
        "import argparse\n",
        "import getpass\n",
        "import imageio\n",
        "import json\n",
        "import os\n",
        "import random\n",
        "import torch\n",
        "import util\n",
        "#from siren import Siren\n",
        "from torchvision import transforms\n",
        "from torchvision.utils import save_image\n",
        "from training import Trainer"
      ]
    },
    {
      "cell_type": "code",
      "execution_count": 9,
      "metadata": {
        "id": "sGSNTDRCZ6AK"
      },
      "outputs": [],
      "source": [
        "# Set up torch and cuda\n",
        "dtype = torch.float32\n",
        "device = torch.device('cuda' if torch.cuda.is_available() else 'cpu')\n",
        "torch.set_default_tensor_type('torch.cuda.FloatTensor' if torch.cuda.is_available() else 'torch.FloatTensor')"
      ]
    },
    {
      "cell_type": "code",
      "execution_count": 10,
      "metadata": {
        "id": "97lHKJsCZ-jG"
      },
      "outputs": [],
      "source": [
        "# Set random seeds\n",
        "torch.manual_seed(random.randint(1, int(1e6)))\n",
        "torch.cuda.manual_seed_all(random.randint(1, int(1e6)))"
      ]
    },
    {
      "cell_type": "code",
      "execution_count": 11,
      "metadata": {
        "id": "LOPM72ZMaBJ6"
      },
      "outputs": [],
      "source": [
        "# Dictionary to register mean values (both full precision and half precision)\n",
        "results = {'fp_bpp':[],'fp_psnr':[],'sim_bpp': [], 'sim_psnr': []}"
      ]
    },
    {
      "cell_type": "code",
      "execution_count": 12,
      "metadata": {
        "id": "GNbxza15aLAN"
      },
      "outputs": [],
      "source": [
        "img = imageio.imread(\"/content/drive/MyDrive/22WinterIntern/coin/kodak-dataset/kodim03.png\")"
      ]
    },
    {
      "cell_type": "code",
      "execution_count": 13,
      "metadata": {
        "id": "nbiCm7iZaTVG"
      },
      "outputs": [],
      "source": [
        "img = transforms.ToTensor()(img).float().to(device, dtype)"
      ]
    },
    {
      "cell_type": "code",
      "execution_count": 14,
      "metadata": {
        "colab": {
          "base_uri": "https://localhost:8080/",
          "height": 348
        },
        "id": "d4H0EEyBaeYR",
        "outputId": "18b2ef5e-e237-4acc-e621-634267088577"
      },
      "outputs": [
        {
          "name": "stdout",
          "output_type": "stream",
          "text": [
            "Model size: 29.9kB\n",
            "Full precision bpp: 0.61\n"
          ]
        },
        {
          "name": "stderr",
          "output_type": "stream",
          "text": [
            "100%|███████████████| 50000/50000 [39:21<00:00, 21.17it/s, best_psnr=31.3, loss=0.000835, psnr=30.8]\n"
          ]
        },
        {
          "name": "stdout",
          "output_type": "stream",
          "text": [
            "Best training psnr: 31.29\n"
          ]
        },
        {
          "data": {
            "image/png": "[encoded data removed]",
            "text/plain": [
              "<Figure size 432x288 with 1 Axes>"
            ]
          },
          "metadata": {
            "needs_background": "light"
          },
          "output_type": "display_data"
        }
      ],
      "source": [
        "# Set up training\n",
        "trainer = Trainer(func_rep, lr=2e-4)\n",
        "coordinates, features = util.to_coordinates_and_features(img)\n",
        "coordinates, features = coordinates.to(device, dtype), features.to(device, dtype)\n",
        "\n",
        "# Calculate model size. Divide by 8000 to go from bits to kB\n",
        "model_size = util.model_size_in_bits(func_rep) / 8000.\n",
        "print(f'Model size: {model_size:.1f}kB')\n",
        "fp_bpp = util.bpp(model=func_rep, image=img)\n",
        "print(f'Full precision bpp: {fp_bpp:.2f}')\n",
        "\n",
        "# Train model in full precision\n",
        "trainer.train(coordinates, features, num_iters=50000, show=True)\n",
        "print(f'Best training psnr: {trainer.best_vals[\"psnr\"]:.2f}')\n",
        "\n",
        "# Log full precision results\n",
        "results['fp_bpp'].append(fp_bpp)\n",
        "results['fp_psnr'].append(trainer.best_vals['psnr'])\n",
        "\n",
        "# Save best model\n",
        "torch.save(trainer.best_model, \"/content/drive/MyDrive/22WinterIntern/coin/\" + f'/best_model.pt')\n",
        "\n",
        "# Update current model to be best model\n",
        "func_rep.load_state_dict(trainer.best_model)\n",
        "\n",
        "# Save full precision image reconstruction\n",
        "with torch.no_grad():\n",
        "    img_recon = func_rep(coordinates).reshape(img.shape[1], img.shape[2], 3).permute(2, 0, 1)\n",
        "    save_image(torch.clamp(img_recon, 0, 1).to('cpu'), \"/content/drive/MyDrive/22WinterIntern/coin/\"+ f'/fp_reconstruction_.png')\n"
      ]
    },
    {
      "cell_type": "code",
      "execution_count": 15,
      "metadata": {
        "colab": {
          "base_uri": "https://localhost:8080/"
        },
        "id": "IEkGfjwoliAQ",
        "outputId": "696563b5-b052-4d01-fc31-306dd5ec3482"
      },
      "outputs": [
        {
          "name": "stdout",
          "output_type": "stream",
          "text": [
            "==================================\n",
            "FP32 Loss =  0.0007434511790052056\n",
            "==================================\n"
          ]
        }
      ],
      "source": [
        "fp32_loss = trainer.best_vals['loss']\n",
        "print(\"==================================\")\n",
        "print(\"FP32 Loss = \",fp32_loss)\n",
        "print(\"==================================\")"
      ]
    },
    {
      "cell_type": "markdown",
      "metadata": {
        "id": "sgw3lrcRBk6C"
      },
      "source": [
        "# Quantization Simulation Model : bw=8"
      ]
    },
    {
      "cell_type": "code",
      "execution_count": 14,
      "metadata": {
        "colab": {
          "base_uri": "https://localhost:8080/",
          "height": 288
        },
        "id": "KI5eQDsdEfIn",
        "outputId": "4d3c8609-776c-42c8-fe01-1a3093817aea"
      },
      "outputs": [
        {
          "ename": "TypeError",
          "evalue": "ignored",
          "output_type": "error",
          "traceback": [
            "\u001b[0;31m---------------------------------------------------------------------------\u001b[0m",
            "\u001b[0;31mTypeError\u001b[0m                                 Traceback (most recent call last)",
            "\u001b[0;32m<ipython-input-14-6d1629e7bd14>\u001b[0m in \u001b[0;36m<module>\u001b[0;34m\u001b[0m\n\u001b[0;32m----> 1\u001b[0;31m \u001b[0msim_siren\u001b[0m\u001b[0;34m.\u001b[0m\u001b[0mcompute_encodings\u001b[0m\u001b[0;34m(\u001b[0m\u001b[0mforward_pass_callback\u001b[0m\u001b[0;34m=\u001b[0m\u001b[0mTrainer\u001b[0m\u001b[0;34m(\u001b[0m\u001b[0msim_siren\u001b[0m\u001b[0;34m.\u001b[0m\u001b[0mmodel\u001b[0m\u001b[0;34m,\u001b[0m \u001b[0mlr\u001b[0m\u001b[0;34m=\u001b[0m\u001b[0;36m2e-4\u001b[0m\u001b[0;34m)\u001b[0m\u001b[0;34m,\u001b[0m\u001b[0mforward_pass_callback_args\u001b[0m\u001b[0;34m=\u001b[0m\u001b[0;32mNone\u001b[0m\u001b[0;34m)\u001b[0m\u001b[0;34m\u001b[0m\u001b[0;34m\u001b[0m\u001b[0m\n\u001b[0m",
            "\u001b[0;32m/usr/local/lib/python3.7/dist-packages/aimet_torch/quantsim.py\u001b[0m in \u001b[0;36mcompute_encodings\u001b[0;34m(self, forward_pass_callback, forward_pass_callback_args)\u001b[0m\n\u001b[1;32m    232\u001b[0m         \u001b[0mself\u001b[0m\u001b[0;34m.\u001b[0m\u001b[0mmodel\u001b[0m\u001b[0;34m.\u001b[0m\u001b[0meval\u001b[0m\u001b[0;34m(\u001b[0m\u001b[0;34m)\u001b[0m\u001b[0;34m\u001b[0m\u001b[0;34m\u001b[0m\u001b[0m\n\u001b[1;32m    233\u001b[0m         \u001b[0;32mwith\u001b[0m \u001b[0mtorch\u001b[0m\u001b[0;34m.\u001b[0m\u001b[0mno_grad\u001b[0m\u001b[0;34m(\u001b[0m\u001b[0;34m)\u001b[0m\u001b[0;34m:\u001b[0m\u001b[0;34m\u001b[0m\u001b[0;34m\u001b[0m\u001b[0m\n\u001b[0;32m--> 234\u001b[0;31m             \u001b[0m_\u001b[0m \u001b[0;34m=\u001b[0m \u001b[0mforward_pass_callback\u001b[0m\u001b[0;34m(\u001b[0m\u001b[0mself\u001b[0m\u001b[0;34m.\u001b[0m\u001b[0mmodel\u001b[0m\u001b[0;34m,\u001b[0m \u001b[0mforward_pass_callback_args\u001b[0m\u001b[0;34m)\u001b[0m\u001b[0;34m\u001b[0m\u001b[0;34m\u001b[0m\u001b[0m\n\u001b[0m\u001b[1;32m    235\u001b[0m \u001b[0;34m\u001b[0m\u001b[0m\n\u001b[1;32m    236\u001b[0m         \u001b[0;31m# Get the computed per-layer encodings and log them\u001b[0m\u001b[0;34m\u001b[0m\u001b[0;34m\u001b[0m\u001b[0;34m\u001b[0m\u001b[0m\n",
            "\u001b[0;31mTypeError\u001b[0m: 'Trainer' object is not callable"
          ]
        }
      ],
      "source": [
        "sim_siren.compute_encodings(forward_pass_callback=Trainer(sim_siren.model, lr=2e-4),forward_pass_callback_args=None)"
      ]
    },
    {
      "cell_type": "code",
      "execution_count": 15,
      "metadata": {
        "colab": {
          "base_uri": "https://localhost:8080/",
          "height": 314
        },
        "id": "Wzrr4UFwD_Qm",
        "outputId": "f41d4bca-22f0-4ae5-b140-eee572b40ec1"
      },
      "outputs": [
        {
          "name": "stderr",
          "output_type": "stream",
          "text": [
            "100%|████████████████| 5000/5000 [4:56:50<00:00,  3.56s/it, best_psnr=21.8, loss=0.00667, psnr=21.8]\n"
          ]
        },
        {
          "name": "stdout",
          "output_type": "stream",
          "text": [
            "Best training psnr: 21.84\n"
          ]
        },
        {
          "data": {
            "image/png": "[encoded data removed]",
            "text/plain": [
              "<Figure size 432x288 with 1 Axes>"
            ]
          },
          "metadata": {
            "needs_background": "light"
          },
          "output_type": "display_data"
        }
      ],
      "source": [
        "# Set up training\n",
        "trainer_sim = Trainer(sim_siren.model, lr=2e-4)\n",
        "coordinates, features = util.to_coordinates_and_features(img)\n",
        "coordinates, features = coordinates.to(device, dtype), features.to(device, dtype)\n",
        "\n",
        "# 시간이 너무 오래 걸려서 5000 iteration만..\n",
        "trainer_sim.train(coordinates, features, num_iters=5000, show=True)\n",
        "print(f'Best training psnr: {trainer_sim.best_vals[\"psnr\"]:.2f}')\n",
        "\n",
        "results['sim_psnr'].append(trainer_sim.best_vals['psnr'])\n",
        "\n",
        "# Save best model\n",
        "torch.save(trainer_sim.best_model, \"/content/drive/MyDrive/22WinterIntern/coin/\" + f'/trainer_sim_best_model.pt')\n",
        "\n",
        "# Update current model to be best model\n",
        "sim_siren.model.load_state_dict(trainer_sim.best_model)\n",
        "\n",
        "# image reconstruction\n",
        "with torch.no_grad():\n",
        "    img_recon = sim_siren.model(coordinates).reshape(img.shape[1], img.shape[2], 3).permute(2, 0, 1)\n",
        "    save_image(torch.clamp(img_recon, 0, 1).to('cpu'), \"/content/drive/MyDrive/22WinterIntern/coin/\"+ f'/sim_reconstruction_.png')\n"
      ]
    },
    {
      "cell_type": "code",
      "execution_count": null,
      "metadata": {},
      "outputs": [],
      "source": [
        "sim_loss = trainer_sim.best_vals['loss']\n",
        "print(\"==================================\")\n",
        "print(\"Simulation Model Loss = \",sim_loss)\n",
        "print(\"==================================\")\n",
        "\n",
        "#==================================\n",
        "#Simulation Model Loss =  0.006552986800670624\n",
        "#=================================="
      ]
    },
    {
      "cell_type": "code",
      "execution_count": 53,
      "metadata": {
        "colab": {
          "base_uri": "https://localhost:8080/"
        },
        "id": "5pUBlTodml14",
        "outputId": "59bad18e-b051-4888-a095-17a6c2365f15"
      },
      "outputs": [
        {
          "data": {
            "text/plain": [
              "<aimet_torch.tensor_quantizer.StaticGridTensorQuantizer at 0x7f8fc0616c50>"
            ]
          },
          "execution_count": 53,
          "metadata": {},
          "output_type": "execute_result"
        }
      ],
      "source": [
        "sim_siren.model.net[9].activation.input_quantizer"
      ]
    },
    {
      "cell_type": "code",
      "execution_count": 49,
      "metadata": {
        "colab": {
          "base_uri": "https://localhost:8080/"
        },
        "id": "GmAPGmdbloDB",
        "outputId": "9c61b0f9-9928-4f26-87fa-af24e17eec18"
      },
      "outputs": [
        {
          "data": {
            "text/plain": [
              "8"
            ]
          },
          "execution_count": 49,
          "metadata": {},
          "output_type": "execute_result"
        }
      ],
      "source": [
        "sim_siren.model.net[9].activation.output_quantizer.bitwidth"
      ]
    }
  ],
  "metadata": {
    "accelerator": "GPU",
    "colab": {
      "background_execution": "on",
      "collapsed_sections": [],
      "name": "AIMET-Quantization.ipynb",
      "provenance": []
    },
    "kernelspec": {
      "display_name": "Python 3",
      "name": "python3"
    },
    "language_info": {
      "name": "python"
    }
  },
  "nbformat": 4,
  "nbformat_minor": 0
}
